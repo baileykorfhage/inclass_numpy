{
 "cells": [
  {
   "cell_type": "markdown",
   "id": "7b8e8c07",
   "metadata": {},
   "source": [
    "# Numpy- inclass assignment 2 (Group of two)\n",
    "## Submit your work using GitHub to Moodle"
   ]
  },
  {
   "cell_type": "markdown",
   "id": "4a478332",
   "metadata": {},
   "source": [
    "### Generate a random numpy array for Month of October where the highest temperature varies between 48-81 degree Farenheit\n",
    "- Keep in mind the length of the month\n",
    "- set a random seed of 1 for regenerate\n",
    "- Display the numpy array named `Temp_O` and find out the minimum and maximum temperature of month"
   ]
  },
  {
   "cell_type": "code",
   "execution_count": 1,
   "id": "36648a67",
   "metadata": {},
   "outputs": [],
   "source": [
    "import numpy as np\n",
    "np.random.seed(1)\n",
    "Temp_O= np.random.randint(48,81, size=31)"
   ]
  },
  {
   "cell_type": "code",
   "execution_count": 2,
   "id": "b476b0c6",
   "metadata": {},
   "outputs": [
    {
     "name": "stdout",
     "output_type": "stream",
     "text": [
      "minimum temperature: 48\n",
      "maximum temperature: 80\n"
     ]
    }
   ],
   "source": [
    "print(\"minimum temperature:\", Temp_O.min())\n",
    "print(\"maximum temperature:\", Temp_O.max())"
   ]
  },
  {
   "cell_type": "markdown",
   "id": "faba3521",
   "metadata": {},
   "source": [
    "### Load the numpy file contains the temperature of Month of December and store it to a variable named Temp_D"
   ]
  },
  {
   "cell_type": "code",
   "execution_count": 3,
   "id": "80b7bf19",
   "metadata": {},
   "outputs": [],
   "source": [
    "Temp_D=np.load(\"Temp_December.npy\")"
   ]
  },
  {
   "cell_type": "code",
   "execution_count": 4,
   "id": "5000e0af",
   "metadata": {},
   "outputs": [
    {
     "data": {
      "text/plain": [
       "array([44, 50, 19, 15, 16, 18, 12, 22,  7, 23,  8, 19, 14, 52, 13, 32, 57,\n",
       "       27, 44, 25, 27, 18, 49, 35, 36, 21, 57, 11, 30, 30, 48])"
      ]
     },
     "execution_count": 4,
     "metadata": {},
     "output_type": "execute_result"
    }
   ],
   "source": [
    "Temp_D"
   ]
  },
  {
   "cell_type": "markdown",
   "id": "641559dd",
   "metadata": {},
   "source": [
    "### Compare two numpy array - Temp_O and Temp_D\n",
    "- Elementwise\n",
    "- Arraywise"
   ]
  },
  {
   "cell_type": "code",
   "execution_count": 5,
   "id": "993d3d61",
   "metadata": {},
   "outputs": [
    {
     "data": {
      "text/plain": [
       "array([ True,  True,  True,  True,  True,  True,  True,  True,  True,\n",
       "        True,  True,  True,  True,  True,  True,  True,  True,  True,\n",
       "        True,  True,  True,  True,  True,  True,  True,  True,  True,\n",
       "        True,  True,  True,  True])"
      ]
     },
     "execution_count": 5,
     "metadata": {},
     "output_type": "execute_result"
    }
   ],
   "source": [
    "Temp_O>Temp_D"
   ]
  },
  {
   "cell_type": "code",
   "execution_count": 6,
   "id": "765cb9e3",
   "metadata": {},
   "outputs": [
    {
     "data": {
      "text/plain": [
       "array([False, False, False, False, False, False, False, False, False,\n",
       "       False, False, False, False, False, False, False, False, False,\n",
       "       False, False, False, False, False, False, False, False, False,\n",
       "       False, False, False, False])"
      ]
     },
     "execution_count": 6,
     "metadata": {},
     "output_type": "execute_result"
    }
   ],
   "source": [
    "Temp_O==Temp_D"
   ]
  },
  {
   "cell_type": "code",
   "execution_count": 7,
   "id": "d7c75980",
   "metadata": {},
   "outputs": [
    {
     "data": {
      "text/plain": [
       "False"
      ]
     },
     "execution_count": 7,
     "metadata": {},
     "output_type": "execute_result"
    }
   ],
   "source": [
    "np.array_equal(Temp_O, Temp_D)"
   ]
  },
  {
   "cell_type": "markdown",
   "id": "7b1e5fc9",
   "metadata": {},
   "source": [
    "### Find out the:\n",
    "- Average temperature\n",
    "- Standard deviation\n",
    "- Varience\n",
    "- Minimum temp\n",
    "- Maximum temp\n",
    "- Median\n",
    "- Inter Quartile Range\n",
    "#### for Month of December"
   ]
  },
  {
   "cell_type": "code",
   "execution_count": 8,
   "id": "4c038182",
   "metadata": {},
   "outputs": [
    {
     "name": "stdout",
     "output_type": "stream",
     "text": [
      "Mean temp of December:                28\n",
      "Standard deviation temp of December:  15\n",
      "Varience temp of December:            220\n",
      "Minimum temp of December:             7\n",
      "Maximum temp of December:             57\n"
     ]
    }
   ],
   "source": [
    "print(\"Mean temp of December:               \", round(Temp_D.mean()))\n",
    "print(\"Standard deviation temp of December: \", round(Temp_D.std()))\n",
    "print(\"Varience temp of December:           \", round(Temp_D.var()))\n",
    "print(\"Minimum temp of December:            \", Temp_D.min())\n",
    "print(\"Maximum temp of December:            \", Temp_D.max())"
   ]
  },
  {
   "cell_type": "code",
   "execution_count": 9,
   "id": "5a9a320a",
   "metadata": {},
   "outputs": [
    {
     "name": "stdout",
     "output_type": "stream",
     "text": [
      "First Quartile:        17.0\n",
      "Median:                25.0\n",
      "Third Quartile:        40.0\n",
      "Inter Quartile Range:  23.0\n"
     ]
    }
   ],
   "source": [
    "print(\"First Quartile:       \", np.percentile(Temp_D, 25))\n",
    "print(\"Median:               \", np.median(Temp_D))\n",
    "print(\"Third Quartile:       \", np.percentile(Temp_D, 75))\n",
    "print(\"Inter Quartile Range: \",np.percentile(Temp_D, 75)- np.percentile(Temp_D, 25))"
   ]
  },
  {
   "cell_type": "markdown",
   "id": "732d294a",
   "metadata": {},
   "source": [
    "### Plot the distribution of December Temperature using Matplotlib\n",
    "- add title and create proper labels"
   ]
  },
  {
   "cell_type": "code",
   "execution_count": 10,
   "id": "890595ec",
   "metadata": {},
   "outputs": [
    {
     "data": {
      "image/png": "[encoded data removed]",
      "text/plain": [
       "<Figure size 432x288 with 1 Axes>"
      ]
     },
     "metadata": {
      "needs_background": "light"
     },
     "output_type": "display_data"
    }
   ],
   "source": [
    "import matplotlib.pyplot as plt\n",
    "plt.hist(Temp_D)\n",
    "plt.title('Temperature distribution of December')\n",
    "plt.xlabel('Temperature (degrees F)')\n",
    "plt.ylabel('Frequency');"
   ]
  },
  {
   "cell_type": "markdown",
   "id": "d48f4063",
   "metadata": {},
   "source": [
    "### Convert the Temp_D to Celsius and store it to a variable names Temp_C. \n",
    "- Round off the result\n",
    "- Save it to a numpy file called DecemberTemp_Celsius"
   ]
  },
  {
   "cell_type": "code",
   "execution_count": 11,
   "id": "5e786c6e",
   "metadata": {},
   "outputs": [
    {
     "data": {
      "text/plain": [
       "array([  7.,  10.,  -7.,  -9.,  -9.,  -8., -11.,  -6., -14.,  -5., -13.,\n",
       "        -7., -10.,  11., -11.,   0.,  14.,  -3.,   7.,  -4.,  -3.,  -8.,\n",
       "         9.,   2.,   2.,  -6.,  14., -12.,  -1.,  -1.,   9.])"
      ]
     },
     "execution_count": 11,
     "metadata": {},
     "output_type": "execute_result"
    }
   ],
   "source": [
    "Temp_C=np.round(((Temp_D-32)/9)*5)\n",
    "Temp_C"
   ]
  },
  {
   "cell_type": "code",
   "execution_count": 12,
   "id": "7c45ad40",
   "metadata": {},
   "outputs": [],
   "source": [
    "np.save(\"DecemberTemp_Celsius.npy\",Temp_C)"
   ]
  },
  {
   "cell_type": "code",
   "execution_count": null,
   "id": "dcecf476",
   "metadata": {},
   "outputs": [],
   "source": []
  }
 ],
 "metadata": {
  "kernelspec": {
   "display_name": "Python 3 (ipykernel)",
   "language": "python",
   "name": "python3"
  },
  "language_info": {
   "codemirror_mode": {
    "name": "ipython",
    "version": 3
   },
   "file_extension": ".py",
   "mimetype": "text/x-python",
   "name": "python",
   "nbconvert_exporter": "python",
   "pygments_lexer": "ipython3",
   "version": "3.9.12"
  }
 },
 "nbformat": 4,
 "nbformat_minor": 5
}
